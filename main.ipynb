{
 "cells": [
  {
   "cell_type": "code",
   "execution_count": null,
   "metadata": {},
   "outputs": [],
   "source": [
    "from dataset import TorinoAquaDataset\n",
    "from model import AutoEncoder, Unet\n",
    "import os\n",
    "import torch\n",
    "import torch.nn as nn\n",
    "from torchinfo import summary\n",
    "import torch.nn.functional as F\n",
    "from torch.utils.data import DataLoader\n",
    "from tqdm.auto import tqdm\n",
    "import matplotlib.pyplot as plt\n",
    "from utils import DiceLoss\n",
    "import torchvision\n",
    "\n",
    "LOAD_MODEL = False\n",
    "\n",
    "device = 'cuda' if torch.cuda.is_available() else 'cpu'\n",
    "model = Unet().to(device)\n",
    "lossfn1 = DiceLoss()\n",
    "lossfn2 = nn.L1Loss()\n",
    "optim = torch.optim.Adam(model.parameters(), lr=1e-4)\n",
    "scheduler = torch.optim.lr_scheduler.ReduceLROnPlateau(optim, 'min', 0.8, 3)\n",
    "\n",
    "dataset = TorinoAquaDataset()\n",
    "dataloader = DataLoader(dataset, 1, True, num_workers=2)\n",
    "epochs = 50\n",
    "\n",
    "os.makedirs('TrainImg', exist_ok=True)\n",
    "if LOAD_MODEL:\n",
    "    model.load_state_dict(torch.load('model.pth'))\n",
    "\n",
    "loss_sum_min = 2e9\n",
    "for epoch in range(epochs):\n",
    "    print('Epoch:', epoch+1)\n",
    "    loss_sum = 0\n",
    "    for i, data in enumerate(tqdm(dataloader)):\n",
    "        inputs = data['input'].to(device)\n",
    "        mask = data['mask'].to(device)\n",
    "        label = data['label'].to(device)\n",
    "        logits = model(inputs)\n",
    "        loss = lossfn1(logits[:,0,:,:], mask) + lossfn2(logits[:,1:,:,:], label)\n",
    "        optim.zero_grad()\n",
    "        loss.backward()\n",
    "        loss_sum += loss.item()\n",
    "        optim.step()\n",
    "        if (i+1)%200==0:\n",
    "            print(loss.item())\n",
    "            grid = torchvision.utils.make_grid([\n",
    "                inputs[0],\n",
    "                mask[0].repeat(3, 1, 1),\n",
    "                label[0],\n",
    "                logits[0,0,:,:].detach().repeat(3, 1, 1),\n",
    "                logits[0,1:,:,:].detach()], \n",
    "                5\n",
    "            )\n",
    "            torchvision.utils.save_image(\n",
    "                grid,\n",
    "                f'TrainImg/Epoch{epoch+1}_{i+1}.png'\n",
    "            )\n",
    "\n",
    "    scheduler.step(loss_sum)\n",
    "    if loss_sum<loss_sum_min:\n",
    "        loss_sum_min = loss_sum\n",
    "        torch.save(model.state_dict(), 'model.pth')\n",
    "        print(\"Model saved!\")"
   ]
  }
 ],
 "metadata": {
  "kernelspec": {
   "display_name": "Python 3.10.12 64-bit",
   "language": "python",
   "name": "python3"
  },
  "language_info": {
   "codemirror_mode": {
    "name": "ipython",
    "version": 3
   },
   "file_extension": ".py",
   "mimetype": "text/x-python",
   "name": "python",
   "nbconvert_exporter": "python",
   "pygments_lexer": "ipython3",
   "version": "3.10.12"
  },
  "orig_nbformat": 4,
  "vscode": {
   "interpreter": {
    "hash": "3196968d684371006099b3d55edeef8ed90365227a30deaef86e5d4aa8519be0"
   }
  }
 },
 "nbformat": 4,
 "nbformat_minor": 2
}
