{
 "cells": [
  {
   "cell_type": "code",
   "execution_count": 3,
   "metadata": {},
   "outputs": [],
   "source": [
    "import os\n",
    "import matplotlib.pyplot as plt\n",
    "import torch\n",
    "import torch.nn as nn\n",
    "import torch.nn.functional as F\n",
    "import torchvision\n",
    "from dataset import TorinoAquaDataset\n",
    "from model import Unet, UnetReconstruct\n",
    "from torch.utils.data import DataLoader\n",
    "from torchinfo import summary\n",
    "from tqdm.auto import tqdm\n",
    "from utils import DiceLoss, MaskL1Loss\n",
    "\n",
    "device = 'cuda' if torch.cuda.is_available() else 'cpu'\n",
    "\n",
    "if os.path.exists('modelUnet.pth') and os.path.exists('modelUnetReconstruct.pth'):\n",
    "    modelUnet = Unet(0.5).to(device)\n",
    "    modelUnet.load_state_dict(torch.load('modelUnet.pth'))\n",
    "    modelUnetReconstruct = UnetReconstruct(0.75).to(device)\n",
    "    modelUnetReconstruct.load_state_dict(torch.load('modelUnetReconstruct.pth'))\n",
    "    dataset = TorinoAquaDataset()\n",
    "    dataloader = DataLoader(dataset, 1, True)\n",
    "    for i in range(10):\n",
    "        with torch.inference_mode():\n",
    "            data = next(iter(dataloader))['input'].to(device)\n",
    "            out1 = modelUnet(data)\n",
    "            out2 = modelUnetReconstruct(data)\n",
    "            grid = torchvision.utils.make_grid([\n",
    "                    data[0],\n",
    "                    out1[0].repeat(3, 1, 1),\n",
    "                    out2[0],\n",
    "                    torch.where(out1[0] > 0.95, out2[0], data[0])], \n",
    "                    2\n",
    "                )\n",
    "            os.makedirs('TrainImg', exist_ok=True)\n",
    "            torchvision.utils.save_image(\n",
    "                grid,\n",
    "                f'TrainImg/Eval{i+1}.png'\n",
    "            )"
   ]
  }
 ],
 "metadata": {
  "kernelspec": {
   "display_name": "Python 3.10.12 64-bit",
   "language": "python",
   "name": "python3"
  },
  "language_info": {
   "codemirror_mode": {
    "name": "ipython",
    "version": 3
   },
   "file_extension": ".py",
   "mimetype": "text/x-python",
   "name": "python",
   "nbconvert_exporter": "python",
   "pygments_lexer": "ipython3",
   "version": "3.10.12"
  },
  "orig_nbformat": 4,
  "vscode": {
   "interpreter": {
    "hash": "3196968d684371006099b3d55edeef8ed90365227a30deaef86e5d4aa8519be0"
   }
  }
 },
 "nbformat": 4,
 "nbformat_minor": 2
}
