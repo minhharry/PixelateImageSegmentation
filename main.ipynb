{
 "cells": [
  {
   "cell_type": "code",
   "execution_count": null,
   "metadata": {},
   "outputs": [],
   "source": [
    "from dataset import TorinoAquaDataset\n",
    "from model import AutoEncoder\n",
    "import os\n",
    "import torch\n",
    "import torch.nn as nn\n",
    "from torchinfo import summary\n",
    "import torch.nn.functional as F\n",
    "from torch.utils.data import DataLoader\n",
    "from tqdm.auto import tqdm\n",
    "import matplotlib.pyplot as plt\n",
    "\n",
    "LOAD_MODEL = True\n",
    "\n",
    "device = 'cuda' if torch.cuda.is_available() else 'cpu'\n",
    "model = AutoEncoder().to(device)\n",
    "lossfn = torch.nn.BCEWithLogitsLoss()\n",
    "optim = torch.optim.Adam(model.parameters(), lr=1e-4)\n",
    "scheduler = torch.optim.lr_scheduler.ReduceLROnPlateau(optim, 'min', 2e-6, 10, 1e-4, verbose=True)\n",
    "\n",
    "dataset = TorinoAquaDataset()\n",
    "dataloader = DataLoader(dataset, 1, True)\n",
    "epochs = 50\n",
    "\n",
    "os.makedirs('TrainImg', exist_ok=True)\n",
    "if LOAD_MODEL:\n",
    "    model.load_state_dict(torch.load('model.pth'))\n",
    "\n",
    "for epoch in range(epochs):\n",
    "    print('Epoch:', epoch+1)\n",
    "    for i, data in enumerate(tqdm(dataloader)):\n",
    "        inputs = data['input'].to(device)\n",
    "        label = data['mask'].to(device)\n",
    "        logits = model(inputs)\n",
    "        loss = lossfn(logits, label)\n",
    "        optim.zero_grad()\n",
    "        loss.backward()\n",
    "        optim.step()\n",
    "        scheduler.step(loss)\n",
    "        if (i+1)%50==0:\n",
    "            print(loss)\n",
    "            fig, axes = plt.subplots(1, 3, figsize=(50,20))\n",
    "            axes[0].set_title('input')\n",
    "            axes[0].imshow(inputs[0].cpu().numpy().transpose(1,2,0))\n",
    "            axes[1].set_title('label')\n",
    "            axes[1].imshow(label[0].cpu().numpy().transpose(1,2,0))\n",
    "            axes[2].set_title('predict')\n",
    "            axes[2].imshow(F.sigmoid(logits)[0].cpu().detach().numpy().transpose(1,2,0))\n",
    "            plt.savefig(f'TrainImg/Epoch{epoch}_{i+1}')\n",
    "            plt.close()\n",
    "    torch.save(model.state_dict(), 'model.pth')"
   ]
  }
 ],
 "metadata": {
  "kernelspec": {
   "display_name": "Python 3.10.12 64-bit",
   "language": "python",
   "name": "python3"
  },
  "language_info": {
   "codemirror_mode": {
    "name": "ipython",
    "version": 3
   },
   "file_extension": ".py",
   "mimetype": "text/x-python",
   "name": "python",
   "nbconvert_exporter": "python",
   "pygments_lexer": "ipython3",
   "version": "3.10.12"
  },
  "orig_nbformat": 4,
  "vscode": {
   "interpreter": {
    "hash": "3196968d684371006099b3d55edeef8ed90365227a30deaef86e5d4aa8519be0"
   }
  }
 },
 "nbformat": 4,
 "nbformat_minor": 2
}
