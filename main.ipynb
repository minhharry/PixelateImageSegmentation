{
 "cells": [
  {
   "cell_type": "code",
   "execution_count": null,
   "metadata": {},
   "outputs": [],
   "source": [
    "import sys\n",
    "sys.path.append('/content/PixelatedImageSegmentation')\n",
    "\n",
    "from dataset import TorinoAquaDataset\n",
    "from model import AutoEncoder\n",
    "import os\n",
    "import torch\n",
    "import torch.nn as nn\n",
    "from torchinfo import summary\n",
    "import torch.nn.functional as F\n",
    "from torch.utils.data import DataLoader\n",
    "from tqdm.auto import tqdm\n",
    "import matplotlib.pyplot as plt\n",
    "from utils import DiceLoss\n",
    "\n",
    "LOAD_MODEL = False\n",
    "\n",
    "device = 'cuda' if torch.cuda.is_available() else 'cpu'\n",
    "model = AutoEncoder().to(device)\n",
    "lossfn = DiceLoss()\n",
    "optim = torch.optim.Adam(model.parameters(), lr=1e-4)\n",
    "scheduler = torch.optim.lr_scheduler.ReduceLROnPlateau(optim, 'min', 0.8, 3)\n",
    "\n",
    "dataset = TorinoAquaDataset()\n",
    "dataloader = DataLoader(dataset, 1, True, num_workers=os.cpu_count())\n",
    "epochs = 50\n",
    "\n",
    "os.makedirs('TrainImg', exist_ok=True)\n",
    "if LOAD_MODEL:\n",
    "    model.load_state_dict(torch.load('model.pth'))\n",
    "\n",
    "loss_sum_min = 2e9\n",
    "for epoch in range(epochs):\n",
    "    print('Epoch:', epoch+1)\n",
    "    loss_sum = 0\n",
    "    for i, data in enumerate(tqdm(dataloader)):\n",
    "        inputs = data['input'].to(device)\n",
    "        label = data['mask'].to(device)\n",
    "        logits = model(inputs)\n",
    "        loss = lossfn(F.sigmoid(logits), label)\n",
    "        optim.zero_grad()\n",
    "        loss.backward()\n",
    "        loss_sum += loss.item()\n",
    "        optim.step()\n",
    "        if (i+1)%50==0:\n",
    "            print(loss.item())\n",
    "            fig, axes = plt.subplots(1, 3, figsize=(50,20))\n",
    "            axes[0].set_title('input')\n",
    "            axes[0].imshow(inputs[0].cpu().numpy().transpose(1,2,0))\n",
    "            axes[1].set_title('label')\n",
    "            axes[1].imshow(label[0].cpu().numpy().transpose(1,2,0))\n",
    "            axes[2].set_title('predict')\n",
    "            axes[2].imshow(F.sigmoid(logits)[0].cpu().detach().numpy().transpose(1,2,0))\n",
    "            plt.savefig(f'TrainImg/Epoch{epoch+1}_{i+1}')\n",
    "            plt.close()\n",
    "    scheduler.step(loss_sum)\n",
    "    if loss_sum<loss_sum_min:\n",
    "        loss_sum_min = loss_sum\n",
    "        torch.save(model.state_dict(), 'model.pth')\n",
    "        print(\"Model saved!\")"
   ]
  }
 ],
 "metadata": {
  "kernelspec": {
   "display_name": "Python 3.10.12 64-bit",
   "language": "python",
   "name": "python3"
  },
  "language_info": {
   "codemirror_mode": {
    "name": "ipython",
    "version": 3
   },
   "file_extension": ".py",
   "mimetype": "text/x-python",
   "name": "python",
   "nbconvert_exporter": "python",
   "pygments_lexer": "ipython3",
   "version": "3.10.7"
  },
  "orig_nbformat": 4,
  "vscode": {
   "interpreter": {
    "hash": "3196968d684371006099b3d55edeef8ed90365227a30deaef86e5d4aa8519be0"
   }
  }
 },
 "nbformat": 4,
 "nbformat_minor": 2
}
