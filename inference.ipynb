{
 "cells": [
  {
   "cell_type": "code",
   "execution_count": null,
   "metadata": {},
   "outputs": [],
   "source": [
    "from dataset import TorinoAquaDataset\n",
    "from models.Unet2 import Unet2\n",
    "import os\n",
    "import torch\n",
    "import torch.nn as nn\n",
    "from torchinfo import summary\n",
    "import torch.nn.functional as F\n",
    "from torch.utils.data import DataLoader\n",
    "from tqdm.auto import tqdm\n",
    "import matplotlib.pyplot as plt\n",
    "from utils import MaskL1Loss, DiceLoss, VGGLoss\n",
    "import torchvision\n",
    "from torch.utils.tensorboard import SummaryWriter\n",
    "\n",
    "LOAD_CHECKPOINT = True\n",
    "\n",
    "device = 'cuda' if torch.cuda.is_available() else 'cpu'\n",
    "model = Unet2(2).to(device)\n",
    "\n",
    "dataset = TorinoAquaDataset(no_mask=-1, factor=(10, 15))\n",
    "dataloader = DataLoader(dataset, 1, True, num_workers=1)\n",
    "\n",
    "if LOAD_CHECKPOINT and os.path.exists('TrainCheckpoint/'+model.__class__.__name__+'CheckpointLast.pth'):\n",
    "    checkpoint_file = torch.load('TrainCheckpoint/'+model.__class__.__name__+'CheckpointLast.pth')\n",
    "    model.load_state_dict(checkpoint_file['model'])\n",
    "    print('Checkpoint loaded!')"
   ]
  },
  {
   "cell_type": "code",
   "execution_count": null,
   "metadata": {},
   "outputs": [],
   "source": [
    "with torch.inference_mode():\n",
    "    for i, data in enumerate(dataloader):\n",
    "        inputs = data['input'].to(device)\n",
    "        label = data['label'].to(device)\n",
    "        logits = model(inputs)\n",
    "        grid = torchvision.utils.make_grid([inputs[0], label[0], logits[0]], 3)\n",
    "        torchvision.utils.save_image(\n",
    "                        grid,\n",
    "                        f'TrainImg/Inference{i+1}.png'\n",
    "                    )\n",
    "        if i+1 == 10:\n",
    "            break\n",
    "    "
   ]
  }
 ],
 "metadata": {
  "kernelspec": {
   "display_name": "Python 3.10.12 64-bit",
   "language": "python",
   "name": "python3"
  },
  "language_info": {
   "codemirror_mode": {
    "name": "ipython",
    "version": 3
   },
   "file_extension": ".py",
   "mimetype": "text/x-python",
   "name": "python",
   "nbconvert_exporter": "python",
   "pygments_lexer": "ipython3",
   "version": "3.10.12"
  },
  "orig_nbformat": 4,
  "vscode": {
   "interpreter": {
    "hash": "3196968d684371006099b3d55edeef8ed90365227a30deaef86e5d4aa8519be0"
   }
  }
 },
 "nbformat": 4,
 "nbformat_minor": 2
}
