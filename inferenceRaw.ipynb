{
 "cells": [
  {
   "cell_type": "code",
   "execution_count": null,
   "metadata": {},
   "outputs": [],
   "source": [
    "from dataset import RawImageDataset\n",
    "from models.Unet import Unet\n",
    "from models.Lama import LamaUnet\n",
    "import os\n",
    "import torch\n",
    "import torch.nn as nn\n",
    "from torchinfo import summary\n",
    "import torch.nn.functional as F\n",
    "from torch.utils.data import DataLoader\n",
    "from tqdm.auto import tqdm\n",
    "import matplotlib.pyplot as plt\n",
    "from utils import MaskL1Loss, DiceLoss, VGGLoss\n",
    "import torchvision\n",
    "from torch.utils.tensorboard import SummaryWriter\n",
    "\n",
    "LOAD_CHECKPOINT = True\n",
    "\n",
    "device = 'cuda' if torch.cuda.is_available() else 'cpu'\n",
    "modelUnet = Unet(0.5).to(device)\n",
    "modelDecen = LamaUnet(1).to(device)\n",
    "\n",
    "dataset = RawImageDataset()\n",
    "dataloader = DataLoader(dataset, 1, False, num_workers=1)\n",
    "\n",
    "if LOAD_CHECKPOINT:\n",
    "    checkpoint_file = torch.load('TrainCheckpoint/UnetCheckpointBest.pth')\n",
    "    modelUnet.load_state_dict(checkpoint_file['model'])\n",
    "    checkpoint_file = torch.load('TrainCheckpoint/LamaUnetCheckpointLast30epoch.pth')\n",
    "    modelDecen.load_state_dict(checkpoint_file['model'])\n",
    "    print('Checkpoint loaded!')"
   ]
  },
  {
   "cell_type": "code",
   "execution_count": null,
   "metadata": {},
   "outputs": [],
   "source": [
    "data = next(iter(dataloader))\n",
    "with torch.inference_mode():\n",
    "    def decen(modelUnet, modelDecen, data):\n",
    "        data = data.to(device)\n",
    "        a512 = 512\n",
    "        def inference_unet(model, data):\n",
    "            H, W = data.shape[2:]\n",
    "            patch_size = 512\n",
    "            output = torch.zeros_like(data).to(device)\n",
    "            for i in range(H//patch_size+1):\n",
    "                for j in range(W//patch_size+1):\n",
    "                    x, y, z, t = i*patch_size, i*patch_size+a512, j*patch_size, j*patch_size+a512\n",
    "                    if y > H:\n",
    "                        y = H\n",
    "                        x = H - a512\n",
    "                    if t > W:\n",
    "                        t = W\n",
    "                        z = W - a512\n",
    "                    inputs = data[:, :, x:y, z:t].to(device)\n",
    "                    logits = model(inputs)\n",
    "                    logits = torch.where(logits > 0.70, torch.ones_like(logits), torch.zeros_like(logits))\n",
    "                    output[:, :, x:y, z:t] = torch.max(output[:, :, x:y, z:t], logits)\n",
    "            return output\n",
    "        def inference_decen(model, data):\n",
    "            H, W = data.shape[2:]\n",
    "            patch_size = 512\n",
    "            output = torch.zeros_like(data).to(device)\n",
    "            for i in range(H//patch_size+1):\n",
    "                for j in range(W//patch_size+1):\n",
    "                    x, y, z, t = i*patch_size, i*patch_size+a512, j*patch_size, j*patch_size+a512\n",
    "                    if y > H:\n",
    "                        y = H\n",
    "                        x = H - a512\n",
    "                    if t > W:\n",
    "                        t = W\n",
    "                        z = W - a512\n",
    "                    inputs = data[:, :, x:y, z:t].to(device)\n",
    "                    logits = model(inputs)\n",
    "                    output[:, :, x:y, z:t] = torch.where(output[:, :, x:y, z:t]==0, logits, output[:, :, x:y, z:t])\n",
    "                    output[:, :, x:y, z:t] = (output[:, :, x:y, z:t] + logits) / 2\n",
    "            return output\n",
    "        output_seg = inference_unet(modelUnet, data)\n",
    "        torchvision.utils.save_image(output_seg, 'TrainImg/inferenceSeg.png')\n",
    "        torch.cuda.empty_cache()\n",
    "        output_decen = inference_decen(modelDecen, data)\n",
    "        torchvision.utils.save_image(output_decen, 'TrainImg/inferenceDecen.png')\n",
    "        torch.cuda.empty_cache()\n",
    "        output = torch.where(output_seg == 1, output_decen, data)\n",
    "        torchvision.utils.save_image(output, 'TrainImg/inferenceFinal.png')\n",
    "        return\n",
    "    decen(modelUnet, modelDecen, data)"
   ]
  }
 ],
 "metadata": {
  "kernelspec": {
   "display_name": "Python 3.10.12 64-bit",
   "language": "python",
   "name": "python3"
  },
  "language_info": {
   "codemirror_mode": {
    "name": "ipython",
    "version": 3
   },
   "file_extension": ".py",
   "mimetype": "text/x-python",
   "name": "python",
   "nbconvert_exporter": "python",
   "pygments_lexer": "ipython3",
   "version": "3.10.12"
  },
  "orig_nbformat": 4,
  "vscode": {
   "interpreter": {
    "hash": "3196968d684371006099b3d55edeef8ed90365227a30deaef86e5d4aa8519be0"
   }
  }
 },
 "nbformat": 4,
 "nbformat_minor": 2
}
